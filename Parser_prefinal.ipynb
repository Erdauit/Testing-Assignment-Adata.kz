{
 "cells": [
  {
   "cell_type": "code",
   "execution_count": 2,
   "id": "9a32af65",
   "metadata": {},
   "outputs": [
    {
     "name": "stdout",
     "output_type": "stream",
     "text": [
      "['№', 'Наименование потенциального поставщика', 'БИН/ИИН', 'Наименование, номер и дата выдачи документа, на основании которого потенциальный поставщик включен в Перечень']\n"
     ]
    }
   ],
   "source": [
    "import urllib.request\n",
    "from bs4 import BeautifulSoup\n",
    "\n",
    "soup = BeautifulSoup(urllib.request.urlopen(\"https://www.goszakup.gov.kz/ru/registry/rqc\").read(),'lxml')\n",
    "\n",
    "tbody = soup('table', {\"class\": \"table table-bordered table-hover\"})[0].find_all('tr')\n",
    "\n",
    "for row in tbody:\n",
    "    cols = row.findChildren(recursive=False)\n",
    "    cols = [ele.text.strip() for ele in cols]\n",
    "    print(cols)\n",
    "    \n",
    "#В сайте были убраны данные :("
   ]
  },
  {
   "cell_type": "code",
   "execution_count": 3,
   "id": "113fbd50",
   "metadata": {},
   "outputs": [],
   "source": [
    "from selenium import webdriver\n",
    "from selenium.webdriver.common.by import By\n",
    "from selenium.webdriver.support.ui import WebDriverWait\n",
    "from selenium.webdriver.support import expected_conditions as EC\n",
    "import pandas as pd"
   ]
  },
  {
   "cell_type": "code",
   "execution_count": 4,
   "id": "1ff01a6d",
   "metadata": {},
   "outputs": [],
   "source": [
    "url = 'https://www.goszakup.gov.kz/ru/registry/rqc'\n",
    "driver = webdriver.Chrome() \n",
    "driver.get(url)"
   ]
  },
  {
   "cell_type": "code",
   "execution_count": 5,
   "id": "94ebe2f0",
   "metadata": {},
   "outputs": [
    {
     "data": {
      "text/html": [
       "<div>\n",
       "<style scoped>\n",
       "    .dataframe tbody tr th:only-of-type {\n",
       "        vertical-align: middle;\n",
       "    }\n",
       "\n",
       "    .dataframe tbody tr th {\n",
       "        vertical-align: top;\n",
       "    }\n",
       "\n",
       "    .dataframe thead th {\n",
       "        text-align: right;\n",
       "    }\n",
       "</style>\n",
       "<table border=\"1\" class=\"dataframe\">\n",
       "  <thead>\n",
       "    <tr style=\"text-align: right;\">\n",
       "      <th></th>\n",
       "      <th>№</th>\n",
       "      <th>Наименование потенциального поставщика</th>\n",
       "      <th>БИН/ИИН</th>\n",
       "      <th>Наименование, номер и дата выдачи документа, на основании которого потенциальный поставщик включен в Перечень</th>\n",
       "    </tr>\n",
       "  </thead>\n",
       "  <tbody>\n",
       "  </tbody>\n",
       "</table>\n",
       "</div>"
      ],
      "text/plain": [
       "Empty DataFrame\n",
       "Columns: [№, Наименование потенциального поставщика, БИН/ИИН, Наименование, номер и дата выдачи документа, на основании которого потенциальный поставщик включен в Перечень]\n",
       "Index: []"
      ]
     },
     "execution_count": 5,
     "metadata": {},
     "output_type": "execute_result"
    }
   ],
   "source": [
    "from selenium.webdriver.chrome.options import Options\n",
    "\n",
    "def extracting_name_iin(link):\n",
    "    \n",
    "    soup = BeautifulSoup(urllib.request.urlopen(link).read(),'lxml')\n",
    "\n",
    "    table = soup.find_all('table')\n",
    "    if not table:\n",
    "        return pd.DataFrame({'Column1': [np.nan], 'Column2': [np.nan], 'Address': [np.nan]})\n",
    "\n",
    "    df1 = pd.read_html(str(table))[2].drop([1,1]).T.drop([0,0]).reset_index()\n",
    "    df2 = pd.read_html(str(table))[3]\n",
    "    extracted_col = df2[\"Полный адрес(рус)\"]\n",
    "    \n",
    "    extracted_col = df2[\"Полный адрес(рус)\"].str.cat(sep='; ')\n",
    "\n",
    "    new_dataframe = pd.concat([df1, pd.Series([extracted_col], name=\"Address\")], axis=1).drop(['index'], axis=1)\n",
    "    return new_dataframe\n",
    "\n",
    "\n",
    "soup = BeautifulSoup(driver.page_source, 'html.parser')\n",
    "table = soup('table')[0]\n",
    "final_df = pd.read_html(str(table))[0]\n",
    "\n",
    "dfs = []\n",
    "for row in table.find_all('tr'):\n",
    "    for link in row.find_all('a', href=True):\n",
    "        df = extracting_name_iin(link['href'])\n",
    "        dfs.append(df)\n",
    "        display(df)\n",
    "\n",
    "        \n",
    "big_dataframe = pd.concat(dfs, ignore_index = True)\n",
    "\n",
    "result_df = pd.concat([final_df, big_dataframe], axis=1) #result\n",
    "\n",
    "result_df = result_df.drop_duplicates(subset=['Наименование потенциального поставщика'])\n",
    "\n",
    "result_df.reset_index(drop=True, inplace=True)\n",
    "\n",
    "result_df.to_excel('result.xlsx', index=False)\n"
   ]
  },
  {
   "cell_type": "code",
   "execution_count": null,
   "id": "49c28f60",
   "metadata": {},
   "outputs": [],
   "source": [
    "\n",
    "\n",
    "    "
   ]
  },
  {
   "cell_type": "code",
   "execution_count": null,
   "id": "cfe48f5c",
   "metadata": {},
   "outputs": [],
   "source": []
  },
  {
   "cell_type": "code",
   "execution_count": null,
   "id": "c2e58d50",
   "metadata": {},
   "outputs": [],
   "source": []
  }
 ],
 "metadata": {
  "kernelspec": {
   "display_name": "Python 3 (ipykernel)",
   "language": "python",
   "name": "python3"
  },
  "language_info": {
   "codemirror_mode": {
    "name": "ipython",
    "version": 3
   },
   "file_extension": ".py",
   "mimetype": "text/x-python",
   "name": "python",
   "nbconvert_exporter": "python",
   "pygments_lexer": "ipython3",
   "version": "3.9.12"
  }
 },
 "nbformat": 4,
 "nbformat_minor": 5
}
